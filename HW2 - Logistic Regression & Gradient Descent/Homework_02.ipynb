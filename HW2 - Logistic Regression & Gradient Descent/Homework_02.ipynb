{
  "cells": [
    {
      "cell_type": "markdown",
      "metadata": {
        "id": "pqf8QC1mboba"
      },
      "source": [
        "# Logistic Regression Homework\n",
        "\n",
        "This is the 2nd assignment for CAP 4630 and we will implement logistic regression and apply it to two\n",
        "different datasets. \\\n",
        "You will use **\"Tasks\"** and **\"Hints\"** to finish the work. **(Total 72 Points)** \\\n",
        "You are **not** allowed to use Machine Learning libaries such as Scikit-learn and Keras.\n",
        "\n",
        "**Task Overview:**\n",
        "- Logistic Regression"
      ]
    },
    {
      "cell_type": "markdown",
      "metadata": {
        "id": "nA9NCiG0bobc"
      },
      "source": [
        "## 1 - Logistic Regression ##\n",
        "### 1.1 Packages\n",
        "\n",
        "Import useful packages for scientific computing and data processing.\n",
        "\n",
        "**Tasks:**\n",
        "1. Import numpy and rename it to np.\n",
        "2. Import pandas and rename it to pd.\n",
        "3. Import the pyplot function in the libraray of matplotlib and rename it to plt.\n",
        "\n",
        "References:\n",
        "- [numpy](www.numpy.org) is the fundamental package for scientific computing with Python.\n",
        "- [matplotlib](http://matplotlib.org) is a famous library to plot graphs in Python.\n",
        "\n",
        "**Attention:**\n",
        "1. After this renaming, you will use the new name to call functions. For example, **numpy** will become **np** in the following sections."
      ]
    },
    {
      "cell_type": "code",
      "execution_count": 2,
      "metadata": {
        "id": "d4m4ElBlbobd"
      },
      "outputs": [],
      "source": [
        "# Import and rename libraries here\n",
        "import numpy as np\n",
        "import pandas as pd\n",
        "import matplotlib.pyplot as plt"
      ]
    },
    {
      "cell_type": "markdown",
      "metadata": {
        "collapsed": true,
        "id": "_uyE155Hbobe"
      },
      "source": [
        "### 1.2 - Data Preparation ##\n",
        "\n",
        "Prepare the data for regression task. **(15 Points)**\n",
        "\n",
        "**Tasks:**\n",
        "1. Load data for logistic regression.\n",
        "2. **Generate the SCATTER PLOT of the data**.\n",
        "\n",
        "**Hints:**\n",
        "1. The data file is \"data_logistic.csv\", which are exam scores for students.\n",
        "2. The data is organized by column: x1 (exam 1 score), x2 (exam 2 score), and label y (pass 1 or fail 0).\n",
        "3. Please use different colors for postive(label=1) and negative(label=0) data.\n",
        "4. An example of scatter plots is shown below.\n",
        "\n",
        "![](https://drive.google.com/uc?export=view&id=1CPv5s4W8SkUMa_sXCIz-NejSnFj-e1IH)"
      ]
    },
    {
      "cell_type": "code",
      "execution_count": 4,
      "metadata": {
        "id": "hHB94up4bobe",
        "colab": {
          "base_uri": "https://localhost:8080/",
          "height": 430
        },
        "outputId": "d535a06b-ae90-47ed-dece-25abc73cb5c1"
      },
      "outputs": [
        {
          "output_type": "display_data",
          "data": {
            "text/plain": [
              "<Figure size 640x480 with 1 Axes>"
            ],
            "image/png": "[encoded data removed]"
          },
          "metadata": {}
        }
      ],
      "source": [
        "# Preprocess input data and generate plots\n",
        "df = pd.read_csv(\"/content/data_logistic.csv\")\n",
        "x1 = df['x1']\n",
        "x2 = df['x2']\n",
        "y = df['label']\n",
        "\n",
        "plt.scatter(x1[y == 1], x2[y ==1], color='green', label='Passed (label = 1)')\n",
        "plt.scatter(x1[y == 0], x2[y == 0], color='red', label='Failed (label = 0)')\n",
        "plt.legend()\n",
        "plt.show()"
      ]
    },
    {
      "cell_type": "markdown",
      "metadata": {
        "id": "xuKwQyflbobf"
      },
      "source": [
        "### 1.3 - Sigmoid function ##\n",
        "\n",
        "\n",
        "Implement sigmoid function so it can be called by the rest of your program. **(15 Points)**\n",
        "\n",
        "**Tasks:**\n",
        "1. Implement the sigmoid function (**def sigmoid(z):**).\n",
        "2. Test the sigmoid function by function **plotting** with test data (X, Y) where Y = sigmoid(X).\n",
        "\n",
        "**Hints:**  \n",
        "1. Given the class material, sigmoid function is defined as:\n",
        "$g(z) = \\frac{1}{1+e^{-z}}$.\n",
        "2. You may consider X = np.linspace(-5, 5, 1000) to plot the curve.\n",
        "3. Plot Y against X.\n",
        "4. An example of plot for validation is shown below:\n",
        "\n",
        "![](https://drive.google.com/uc?export=view&id=18j5oHdw78uVm2WwHsdIb4hwhpXDxR37S)"
      ]
    },
    {
      "cell_type": "code",
      "execution_count": 6,
      "metadata": {
        "id": "pLoeDtjrbobf"
      },
      "outputs": [],
      "source": [
        "# Implement sigmoid fuction here\n",
        "def sigmoid(z):\n",
        "  y = 1 / (1 + np.exp(-z))\n",
        "  return y\n"
      ]
    },
    {
      "cell_type": "code",
      "execution_count": 7,
      "metadata": {
        "id": "n1LVSh-Ibobf",
        "colab": {
          "base_uri": "https://localhost:8080/",
          "height": 430
        },
        "outputId": "a8dce5ea-c9a3-42f7-a8a8-d399c7182053"
      },
      "outputs": [
        {
          "output_type": "display_data",
          "data": {
            "text/plain": [
              "<Figure size 640x480 with 1 Axes>"
            ],
            "image/png": "[encoded data removed]"
          },
          "metadata": {}
        }
      ],
      "source": [
        "# Plot data here\n",
        "x = np.linspace(-5, 5, 1000)\n",
        "plt.plot(x, sigmoid(x))\n",
        "plt.show()"
      ]
    },
    {
      "cell_type": "markdown",
      "metadata": {
        "id": "NstBKCFsbobg"
      },
      "source": [
        "### 1.4 - Cost function and gradient ##\n",
        "\n",
        "Implement the cross entropy cost function and its gradient for logistic regression. **(20 Points)**\n",
        "\n",
        "**Tasks:**\n",
        "1. Implement the \"cal_cost\" to compute the cost.\n",
        "2. Implement the \"cal_grad\" to compute the gradients.\n",
        "3. Test \"cal_cost\" and \"cal_grad\" with initial values and print out the results.\n",
        "\n",
        "**Hint:**\n",
        "1. The cross entropy cost function (J(θ)) in logistic regression is shown below. It involves two terms, including ylog(h) and (1-y)log(1-h) where h is the function of x.\n",
        "\n",
        "![](https://drive.google.com/uc?export=view&id=1xLhlPFI4wekwuA7lFm7ebRVt0XBZk3e7)\n",
        "\n",
        "2. The gradient of the cost J(θ) is a vector of the same length as θ where the $j$th element (for $j = 0, 1, . . . , n)$ is defined below. You may do a hand calculation to justify the first order derivative with the term above.\n",
        "\n",
        "![](https://drive.google.com/uc?export=view&id=1xfA0A0xyRv2L5JZIdedAmEZxZ3DwpOCF)\n",
        "\n",
        "3. When you implement J(θ), please use eps = 1e-15 to prevent possible \"divide by 0 exception\" in second term. You may think about the reason.\n",
        "4. You may consider the below templates for two functions:\n",
        "\n",
        "    def cal_cost(theta, X, y):\n",
        "\n",
        "        htheta = ...\n",
        "        term1 = ...  /* matrix_multiplication(log(htheta), y)\n",
        "        term2 = ...  /* matrix_multiplication(log(1-htheta+eps), (1-y))\n",
        "        J = - 1 / m * (term1 + term2)\n",
        "        \n",
        "        return cost\n",
        "        \n",
        "    \n",
        "    def cal_grad(theta, X, y):\n",
        "        \n",
        "        htheta = ...\n",
        "        term1 = ... /* matrix_multiplication(transpose(X), (htheta - y))  //you may think about why transpose(x)\n",
        "        grad = 1 / m * term1\n",
        "    \n",
        "        return grad\n",
        "5. It involves matrix multiplication and you may consider the function of np.matmul or np.dot.   \n",
        "        \n",
        "6. Initialize the intercept term (constant term) with **ones** and the theta with **zeros**. Test the functions with these initial values. \\\n",
        "    **Expected outputs:**\\\n",
        "    Cost at initial theta : 0.6931471805599445\\\n",
        "    Gradient at inital theta : [-0.1        -10.91242026 -11.73652937]\n"
      ]
    },
    {
      "cell_type": "code",
      "execution_count": 8,
      "metadata": {
        "id": "FNNV3RWLbobg"
      },
      "outputs": [],
      "source": [
        "# Implement the cost function here\n",
        "def cal_cost(theta, y, x):\n",
        "  z = np.dot(x, theta)\n",
        "  htheta = sigmoid(z)\n",
        "  eps = 1e-15\n",
        "\n",
        "  term1 = np.dot(y, np.log(htheta))\n",
        "  term2 = np.dot((1-y), np.log(1-htheta+eps))\n",
        "\n",
        "  m = len(y)\n",
        "  cost = - np.sum(term1+term2) / m\n",
        "  return cost\n",
        "\n",
        "def cal_grad(theta, y, x):\n",
        "  z = np.dot(x, theta)\n",
        "  htheta = sigmoid(z)\n",
        "\n",
        "  m = len(y)\n",
        "  gradient= np.dot(x.T, (htheta - y)) / m\n",
        "  return gradient\n",
        "\n",
        "\n"
      ]
    },
    {
      "cell_type": "code",
      "source": [
        " # Let y_pred = sigmoid(x*m +b) with m = 0 and b = 1\n",
        "theta = np.array([0.0, 0.0, 0.0])\n",
        "\n",
        "X = np.column_stack((np.ones(80),x1, x2))\n",
        "\n",
        "print(cal_cost(theta, y, X))\n",
        "print(cal_grad(theta, y, X))"
      ],
      "metadata": {
        "colab": {
          "base_uri": "https://localhost:8080/"
        },
        "id": "uHXl69Wv5Dlz",
        "outputId": "28b51ddc-d7d3-4645-e87f-fe6dad3d1fd7"
      },
      "execution_count": 9,
      "outputs": [
        {
          "output_type": "stream",
          "name": "stdout",
          "text": [
            "0.6931471805599445\n",
            "[ -0.1        -10.91242026 -11.73652937]\n"
          ]
        }
      ]
    },
    {
      "cell_type": "markdown",
      "metadata": {
        "id": "X8HudXKrbobh"
      },
      "source": [
        "## 1.5 Train parameters with Gradient Descent ##\n",
        "\n",
        "\n",
        "Train parameters using Gradient Descent. **(10 Points)**\n",
        "\n",
        "**Tasks:**\n",
        "1. Calculate best fit theta by Gradient Descent with learning rate of **0.001 (1e-3)** and epoch of **80K**. The initial theta from above blocks is used as initial values.\n",
        "2. Print out the best theta (the last one is considered as the best here) and its corresponding cost.\n",
        "3. **Plot the decision boundary**.\n",
        "\n",
        "**Hints:**\n",
        "1. You may take gradient descent in homework 1 as an template.\n",
        "2. Derive the boundary line from **sigmoid(theta[0]+ X1 * theta[1] + X2* theta[2])=0.5**. Think about why we get the line by setting **the activated probability to 0.5**. Also, try to calculate the final relationship between X1 and X2. When sigmoid(X) = 0.5, what is the value of x? Check the generated plot in 1.3.\n",
        "3. The validation of first 5 epochs (updated theta and cost): \\\n",
        "------Epoch 0------\\\n",
        "Theta: [0.0001     0.01091242 0.01173653]\\\n",
        "Cost: 0.6996118077359638\\\n",
        "------Epoch 1------\\\n",
        "Theta: [-0.0001129   0.00053949  0.00229352]\\\n",
        "Cost: 0.6649331468590681\\\n",
        "------Epoch 2------\\\n",
        "Theta: [-5.93604956e-05  8.33145873e-03  1.07754324e-02]\\\n",
        "Cost: 0.6679914364992459\\\n",
        "------Epoch 3------\\\n",
        "Theta: [-0.0002356   0.0004607   0.00370829]\\\n",
        "Cost: 0.6545873034874964\\\n",
        "------Epoch 4------\\\n",
        "Theta: [-0.00020363  0.00683227  0.01065138]\\\n",
        "Cost: 0.6563302142684528\n",
        "4. You may take the plots below as an exmample:\n",
        "\n",
        "![](https://drive.google.com/uc?export=view&id=1xLg9LrIF888gGXj3zRAG9iJLsyAmgPQg)\n",
        "\n",
        "5. It may take ~1 min to finish running."
      ]
    },
    {
      "cell_type": "code",
      "execution_count": 10,
      "metadata": {
        "id": "T9a3Z6qDbobh",
        "colab": {
          "base_uri": "https://localhost:8080/"
        },
        "outputId": "d2f0a9ac-d6c6-4542-a2ed-e8464806c99c"
      },
      "outputs": [
        {
          "output_type": "stream",
          "name": "stdout",
          "text": [
            "Epoch 0: \n",
            "\tLoss: 0.6931471805599445\n",
            "\tThetas: [0.0001     0.01091242 0.01173653]\n",
            "Epoch 1: \n",
            "\tLoss: 0.6996118077359637\n",
            "\tThetas: [-0.0001129   0.00053949  0.00229352]\n",
            "Epoch 2: \n",
            "\tLoss: 0.6649331468590681\n",
            "\tThetas: [-5.93604956e-05  8.33145873e-03  1.07754324e-02]\n",
            "Epoch 3: \n",
            "\tLoss: 0.667991436499246\n",
            "\tThetas: [-0.0002356   0.0004607   0.00370829]\n",
            "Epoch 4: \n",
            "\tLoss: 0.6545873034874964\n",
            "\tThetas: [-0.00020363  0.00683227  0.01065138]\n",
            "Optimal: \n",
            "\tLoss: 0.4383902436879394\n",
            "\tThetas: [-3.88329777  0.02947987  0.03935448]\n"
          ]
        }
      ],
      "source": [
        "# Gradient Descent Implementation Here\n",
        "losses = []\n",
        "thetas = []\n",
        "theta = np.array([0, 0, 0])\n",
        "X = np.column_stack((np.ones(80), x1, x2))\n",
        "learning_rate = 1e-3\n",
        "\n",
        "for i in range(80000):\n",
        "  loss = cal_cost(theta, y, X)\n",
        "  grad = cal_grad(theta, y, X)\n",
        "\n",
        "  theta = theta - learning_rate * grad\n",
        "\n",
        "  losses.append(loss)\n",
        "  thetas.append(theta)\n",
        "\n",
        "  if i < 5:\n",
        "    print(f\"Epoch {i}: \\n\\tLoss: {loss}\\n\\tThetas: {theta}\")\n",
        "\n",
        "print(f\"Optimal: \\n\\tLoss: {losses[-1]}\\n\\tThetas: {thetas[-1]}\")\n",
        "loss = losses[-1]\n",
        "theta = thetas[-1]"
      ]
    },
    {
      "cell_type": "code",
      "execution_count": 11,
      "metadata": {
        "id": "NFyMfpNbbobh",
        "colab": {
          "base_uri": "https://localhost:8080/",
          "height": 430
        },
        "outputId": "55297850-57bb-4e87-c49d-1427406366e8"
      },
      "outputs": [
        {
          "output_type": "display_data",
          "data": {
            "text/plain": [
              "<Figure size 640x480 with 1 Axes>"
            ],
            "image/png": "[encoded data removed]"
          },
          "metadata": {}
        }
      ],
      "source": [
        "# Draw Decision Boundary Here\n",
        "x_values = [np.min(x1), np.max(x1)]\n",
        "# sigmoid(theta[0] + theta[1]x1 + theta[2]x2) = 0.5 when theta[0]  +theta[1]x1  +theta2[2]x2 = 0\n",
        "y_values = -(theta[0] + np.dot(theta[1], x_values)) / theta[2]\n",
        "\n",
        "\n",
        "plt.scatter(x1[y == 1], x2[y ==1], color='green', label='Passed (label = 1)')\n",
        "plt.scatter(x1[y == 0], x2[y == 0], color='red', label='Failed (label = 0)')\n",
        "plt.legend()\n",
        "plt.plot(x_values, y_values)\n",
        "\n",
        "plt.show()"
      ]
    },
    {
      "cell_type": "markdown",
      "metadata": {
        "id": "8fllDopObobh"
      },
      "source": [
        "\n",
        "### 1.6 Evaluating Logistic Regression\n",
        "\n",
        "Evaluate the model with given data. **(10 Points)**\n",
        "\n",
        "**Tasks:**\n",
        "1. Calculate the training accuracy and **PRINT IT OUT**.\n",
        "2. Evaluate the predicted probability of the learnt model with x1 = 56 and x2 = 32 and **PRINT IT OUT**.\n",
        "\n",
        "\n",
        "**Hints:**  \n",
        "1. Positive(prediction>0.5) and negative(prediction<=0.5).\n",
        "2. The prediction results are based on acceptance probability. Given the two exam scores, we expected the model yields either high probability of \"fail\" or low probability of \"pass\".\n",
        "3. Training accuracy should be around **85%**."
      ]
    },
    {
      "cell_type": "code",
      "execution_count": 14,
      "metadata": {
        "id": "IrQzTn07bobh",
        "colab": {
          "base_uri": "https://localhost:8080/"
        },
        "outputId": "635c7cb1-d994-4fad-a861-a1258cc71139"
      },
      "outputs": [
        {
          "output_type": "stream",
          "name": "stdout",
          "text": [
            "Training accuracy with optimal theta: 85.0%\n",
            "Training accuracy with set thetas (x1 = 56, x2 = 32, b = 0): 60.0%\n"
          ]
        }
      ],
      "source": [
        "# Evaluate the model\n",
        "# We'll calculate accuracy as the ratio of correct predictions over all the samples.\n",
        "\n",
        "def cal_accuracy(X, y, theta):\n",
        "  z = np.dot(X, theta)\n",
        "  htheta = sigmoid(z)\n",
        "\n",
        "  y_pred = (htheta >= 0.5) #Convert the values into a positive or negative prediction based on sigmoid\n",
        "\n",
        "  correct_y = np.sum(y_pred == y)\n",
        "\n",
        "  accuracy = (correct_y / len(y)) * 100\n",
        "  return accuracy\n",
        "\n",
        "accuracy = cal_accuracy(X, y, theta)\n",
        "accuracy_set = cal_accuracy(X, y, [0, 56, 32])\n",
        "print(f\"Training accuracy with optimal theta: {accuracy}%\")\n",
        "print(f\"Training accuracy with set thetas (x1 = 56, x2 = 32, b = 0): {accuracy_set}%\")"
      ]
    }
  ],
  "metadata": {
    "coursera": {
      "course_slug": "neural-networks-deep-learning",
      "graded_item_id": "XaIWT",
      "launcher_item_id": "zAgPl"
    },
    "kernelspec": {
      "display_name": "Python 3",
      "language": "python",
      "name": "python3"
    },
    "language_info": {
      "codemirror_mode": {
        "name": "ipython",
        "version": 3
      },
      "file_extension": ".py",
      "mimetype": "text/x-python",
      "name": "python",
      "nbconvert_exporter": "python",
      "pygments_lexer": "ipython3",
      "version": "3.8.5"
    },
    "colab": {
      "provenance": []
    }
  },
  "nbformat": 4,
  "nbformat_minor": 0
}